{
 "cells": [
  {
   "cell_type": "markdown",
   "metadata": {},
   "source": [
    "# Before your start:\n",
    "- Read the README.md file\n",
    "- Comment as much as you can and use the resources (README.md file)\n",
    "- Happy learning!"
   ]
  },
  {
   "cell_type": "code",
   "execution_count": 1,
   "metadata": {},
   "outputs": [],
   "source": [
    "%matplotlib inline\n",
    "# import numpy and pandas\n",
    "\n",
    "import numpy as np\n",
    "import pandas as pd"
   ]
  },
  {
   "cell_type": "markdown",
   "metadata": {},
   "source": [
    "# Challenge 1 - Analysis of Variance\n",
    "\n",
    "In this part of the lesson, we will perform an analysis of variance to determine whether the factors in our model create a significant difference in the group means. We will be examining a dataset of FIFA players. We'll start by loading the data using the code in the cell below."
   ]
  },
  {
   "cell_type": "code",
   "execution_count": 2,
   "metadata": {},
   "outputs": [],
   "source": [
    "# Run this code:\n",
    "\n",
    "fifa = pd.read_csv('fifa.csv')"
   ]
  },
  {
   "cell_type": "markdown",
   "metadata": {},
   "source": [
    "Let's examine the dataset by looking at the `head`."
   ]
  },
  {
   "cell_type": "code",
   "execution_count": 3,
   "metadata": {},
   "outputs": [
    {
     "data": {
      "text/html": [
       "<div>\n",
       "<style scoped>\n",
       "    .dataframe tbody tr th:only-of-type {\n",
       "        vertical-align: middle;\n",
       "    }\n",
       "\n",
       "    .dataframe tbody tr th {\n",
       "        vertical-align: top;\n",
       "    }\n",
       "\n",
       "    .dataframe thead th {\n",
       "        text-align: right;\n",
       "    }\n",
       "</style>\n",
       "<table border=\"1\" class=\"dataframe\">\n",
       "  <thead>\n",
       "    <tr style=\"text-align: right;\">\n",
       "      <th></th>\n",
       "      <th>Name</th>\n",
       "      <th>Age</th>\n",
       "      <th>Nationality</th>\n",
       "      <th>Overall</th>\n",
       "      <th>Potential</th>\n",
       "      <th>Club</th>\n",
       "      <th>Value</th>\n",
       "      <th>Preferred Foot</th>\n",
       "      <th>Position</th>\n",
       "      <th>Weak Foot</th>\n",
       "      <th>Acceleration</th>\n",
       "      <th>SprintSpeed</th>\n",
       "      <th>Stamina</th>\n",
       "      <th>Strength</th>\n",
       "      <th>LongShots</th>\n",
       "      <th>Aggression</th>\n",
       "      <th>Interceptions</th>\n",
       "      <th>Positioning</th>\n",
       "      <th>Vision</th>\n",
       "      <th>Penalties</th>\n",
       "    </tr>\n",
       "  </thead>\n",
       "  <tbody>\n",
       "    <tr>\n",
       "      <td>0</td>\n",
       "      <td>L. Messi</td>\n",
       "      <td>31</td>\n",
       "      <td>Argentina</td>\n",
       "      <td>94</td>\n",
       "      <td>94</td>\n",
       "      <td>FC Barcelona</td>\n",
       "      <td>€110.5M</td>\n",
       "      <td>Left</td>\n",
       "      <td>RF</td>\n",
       "      <td>4.0</td>\n",
       "      <td>91.0</td>\n",
       "      <td>86.0</td>\n",
       "      <td>72.0</td>\n",
       "      <td>59.0</td>\n",
       "      <td>94.0</td>\n",
       "      <td>48.0</td>\n",
       "      <td>22.0</td>\n",
       "      <td>94.0</td>\n",
       "      <td>94.0</td>\n",
       "      <td>75.0</td>\n",
       "    </tr>\n",
       "    <tr>\n",
       "      <td>1</td>\n",
       "      <td>Cristiano Ronaldo</td>\n",
       "      <td>33</td>\n",
       "      <td>Portugal</td>\n",
       "      <td>94</td>\n",
       "      <td>94</td>\n",
       "      <td>Juventus</td>\n",
       "      <td>€77M</td>\n",
       "      <td>Right</td>\n",
       "      <td>ST</td>\n",
       "      <td>4.0</td>\n",
       "      <td>89.0</td>\n",
       "      <td>91.0</td>\n",
       "      <td>88.0</td>\n",
       "      <td>79.0</td>\n",
       "      <td>93.0</td>\n",
       "      <td>63.0</td>\n",
       "      <td>29.0</td>\n",
       "      <td>95.0</td>\n",
       "      <td>82.0</td>\n",
       "      <td>85.0</td>\n",
       "    </tr>\n",
       "    <tr>\n",
       "      <td>2</td>\n",
       "      <td>Neymar Jr</td>\n",
       "      <td>26</td>\n",
       "      <td>Brazil</td>\n",
       "      <td>92</td>\n",
       "      <td>93</td>\n",
       "      <td>Paris Saint-Germain</td>\n",
       "      <td>€118.5M</td>\n",
       "      <td>Right</td>\n",
       "      <td>LW</td>\n",
       "      <td>5.0</td>\n",
       "      <td>94.0</td>\n",
       "      <td>90.0</td>\n",
       "      <td>81.0</td>\n",
       "      <td>49.0</td>\n",
       "      <td>82.0</td>\n",
       "      <td>56.0</td>\n",
       "      <td>36.0</td>\n",
       "      <td>89.0</td>\n",
       "      <td>87.0</td>\n",
       "      <td>81.0</td>\n",
       "    </tr>\n",
       "    <tr>\n",
       "      <td>3</td>\n",
       "      <td>De Gea</td>\n",
       "      <td>27</td>\n",
       "      <td>Spain</td>\n",
       "      <td>91</td>\n",
       "      <td>93</td>\n",
       "      <td>Manchester United</td>\n",
       "      <td>€72M</td>\n",
       "      <td>Right</td>\n",
       "      <td>GK</td>\n",
       "      <td>3.0</td>\n",
       "      <td>57.0</td>\n",
       "      <td>58.0</td>\n",
       "      <td>43.0</td>\n",
       "      <td>64.0</td>\n",
       "      <td>12.0</td>\n",
       "      <td>38.0</td>\n",
       "      <td>30.0</td>\n",
       "      <td>12.0</td>\n",
       "      <td>68.0</td>\n",
       "      <td>40.0</td>\n",
       "    </tr>\n",
       "    <tr>\n",
       "      <td>4</td>\n",
       "      <td>K. De Bruyne</td>\n",
       "      <td>27</td>\n",
       "      <td>Belgium</td>\n",
       "      <td>91</td>\n",
       "      <td>92</td>\n",
       "      <td>Manchester City</td>\n",
       "      <td>€102M</td>\n",
       "      <td>Right</td>\n",
       "      <td>RCM</td>\n",
       "      <td>5.0</td>\n",
       "      <td>78.0</td>\n",
       "      <td>76.0</td>\n",
       "      <td>90.0</td>\n",
       "      <td>75.0</td>\n",
       "      <td>91.0</td>\n",
       "      <td>76.0</td>\n",
       "      <td>61.0</td>\n",
       "      <td>87.0</td>\n",
       "      <td>94.0</td>\n",
       "      <td>79.0</td>\n",
       "    </tr>\n",
       "  </tbody>\n",
       "</table>\n",
       "</div>"
      ],
      "text/plain": [
       "                Name  Age Nationality  Overall  Potential  \\\n",
       "0           L. Messi   31   Argentina       94         94   \n",
       "1  Cristiano Ronaldo   33    Portugal       94         94   \n",
       "2          Neymar Jr   26      Brazil       92         93   \n",
       "3             De Gea   27       Spain       91         93   \n",
       "4       K. De Bruyne   27     Belgium       91         92   \n",
       "\n",
       "                  Club    Value Preferred Foot Position  Weak Foot  \\\n",
       "0         FC Barcelona  €110.5M           Left       RF        4.0   \n",
       "1             Juventus     €77M          Right       ST        4.0   \n",
       "2  Paris Saint-Germain  €118.5M          Right       LW        5.0   \n",
       "3    Manchester United     €72M          Right       GK        3.0   \n",
       "4      Manchester City    €102M          Right      RCM        5.0   \n",
       "\n",
       "   Acceleration  SprintSpeed  Stamina  Strength  LongShots  Aggression  \\\n",
       "0          91.0         86.0     72.0      59.0       94.0        48.0   \n",
       "1          89.0         91.0     88.0      79.0       93.0        63.0   \n",
       "2          94.0         90.0     81.0      49.0       82.0        56.0   \n",
       "3          57.0         58.0     43.0      64.0       12.0        38.0   \n",
       "4          78.0         76.0     90.0      75.0       91.0        76.0   \n",
       "\n",
       "   Interceptions  Positioning  Vision  Penalties  \n",
       "0           22.0         94.0    94.0       75.0  \n",
       "1           29.0         95.0    82.0       85.0  \n",
       "2           36.0         89.0    87.0       81.0  \n",
       "3           30.0         12.0    68.0       40.0  \n",
       "4           61.0         87.0    94.0       79.0  "
      ]
     },
     "execution_count": 3,
     "metadata": {},
     "output_type": "execute_result"
    }
   ],
   "source": [
    "# Your code here:\n",
    "\n",
    "fifa.head()"
   ]
  },
  {
   "cell_type": "markdown",
   "metadata": {},
   "source": [
    "Player's values are expressed in millions of euros. We would like this column to be numeric. Therefore, let's create a numeric value column. Do this by stripping all non-numeric characters from each cell. Assign this new data to `ValueNumeric`. There is no need to multiply the value to be expressed in millions. "
   ]
  },
  {
   "cell_type": "code",
   "execution_count": 4,
   "metadata": {},
   "outputs": [],
   "source": [
    "# Your code here:\n",
    "fifa['ValueNumeric'] = [float(x.strip('€M'))*1000000 if not 'K' in x else float(x.strip('€K'))*1000 for x in fifa['Value']]"
   ]
  },
  {
   "cell_type": "markdown",
   "metadata": {},
   "source": [
    "#### We'd like to determine whether a player's preffered foot and position have an impact on their value. \n",
    "\n",
    "Using the `statsmodels` library, we are able to produce an ANOVA table without munging our data. Create an ANOVA table with value as a function of position and preferred foot. Recall that pivoting is performed by the `C` function.\n",
    "\n",
    "Hint: For columns that have a space in their name, it is best to refer to the column using the dataframe (For example: for column `A`, we will use `df['A']`)."
   ]
  },
  {
   "cell_type": "code",
   "execution_count": 7,
   "metadata": {},
   "outputs": [
    {
     "data": {
      "text/html": [
       "<div>\n",
       "<style scoped>\n",
       "    .dataframe tbody tr th:only-of-type {\n",
       "        vertical-align: middle;\n",
       "    }\n",
       "\n",
       "    .dataframe tbody tr th {\n",
       "        vertical-align: top;\n",
       "    }\n",
       "\n",
       "    .dataframe thead th {\n",
       "        text-align: right;\n",
       "    }\n",
       "</style>\n",
       "<table border=\"1\" class=\"dataframe\">\n",
       "  <thead>\n",
       "    <tr style=\"text-align: right;\">\n",
       "      <th></th>\n",
       "      <th>sum_sq</th>\n",
       "      <th>df</th>\n",
       "      <th>F</th>\n",
       "      <th>PR(&gt;F)</th>\n",
       "    </tr>\n",
       "  </thead>\n",
       "  <tbody>\n",
       "    <tr>\n",
       "      <td>C(fifa[\"Preferred Foot\"])</td>\n",
       "      <td>2.341622e+14</td>\n",
       "      <td>1.0</td>\n",
       "      <td>7.734728</td>\n",
       "      <td>5.422475e-03</td>\n",
       "    </tr>\n",
       "    <tr>\n",
       "      <td>C(Position)</td>\n",
       "      <td>1.657002e+16</td>\n",
       "      <td>26.0</td>\n",
       "      <td>21.051242</td>\n",
       "      <td>2.211476e-97</td>\n",
       "    </tr>\n",
       "    <tr>\n",
       "      <td>C(fifa[\"Preferred Foot\"]):C(Position)</td>\n",
       "      <td>5.152828e+15</td>\n",
       "      <td>26.0</td>\n",
       "      <td>6.546369</td>\n",
       "      <td>5.153228e-23</td>\n",
       "    </tr>\n",
       "    <tr>\n",
       "      <td>Residual</td>\n",
       "      <td>5.477500e+17</td>\n",
       "      <td>18093.0</td>\n",
       "      <td>NaN</td>\n",
       "      <td>NaN</td>\n",
       "    </tr>\n",
       "  </tbody>\n",
       "</table>\n",
       "</div>"
      ],
      "text/plain": [
       "                                             sum_sq       df          F  \\\n",
       "C(fifa[\"Preferred Foot\"])              2.341622e+14      1.0   7.734728   \n",
       "C(Position)                            1.657002e+16     26.0  21.051242   \n",
       "C(fifa[\"Preferred Foot\"]):C(Position)  5.152828e+15     26.0   6.546369   \n",
       "Residual                               5.477500e+17  18093.0        NaN   \n",
       "\n",
       "                                             PR(>F)  \n",
       "C(fifa[\"Preferred Foot\"])              5.422475e-03  \n",
       "C(Position)                            2.211476e-97  \n",
       "C(fifa[\"Preferred Foot\"]):C(Position)  5.153228e-23  \n",
       "Residual                                        NaN  "
      ]
     },
     "execution_count": 7,
     "metadata": {},
     "output_type": "execute_result"
    }
   ],
   "source": [
    "import statsmodels.api as sm\n",
    "from statsmodels.formula.api import ols\n",
    "\n",
    "formula = 'ValueNumeric ~ C(fifa[\"Preferred Foot\"]) * C(Position)'\n",
    "model = ols(formula=formula, data=fifa).fit()\n",
    "\n",
    "anova_table = sm.stats.anova_lm(model, typ='II')\n",
    "anova_table"
   ]
  },
  {
   "cell_type": "markdown",
   "metadata": {},
   "source": [
    "What is your conclusion from this ANOVA?"
   ]
  },
  {
   "cell_type": "code",
   "execution_count": null,
   "metadata": {},
   "outputs": [],
   "source": [
    "# Your conclusions here:\n",
    "\n",
    "# There are significant differences between groups of Preferred Foot, Position and the interaction between the two others factors"
   ]
  },
  {
   "cell_type": "markdown",
   "metadata": {},
   "source": [
    "After looking at a model of both preffered foot and position, we decide to create an ANOVA table for nationality. Create an ANOVA table for numeric value as a function of nationality."
   ]
  },
  {
   "cell_type": "code",
   "execution_count": 8,
   "metadata": {},
   "outputs": [
    {
     "data": {
      "text/html": [
       "<div>\n",
       "<style scoped>\n",
       "    .dataframe tbody tr th:only-of-type {\n",
       "        vertical-align: middle;\n",
       "    }\n",
       "\n",
       "    .dataframe tbody tr th {\n",
       "        vertical-align: top;\n",
       "    }\n",
       "\n",
       "    .dataframe thead th {\n",
       "        text-align: right;\n",
       "    }\n",
       "</style>\n",
       "<table border=\"1\" class=\"dataframe\">\n",
       "  <thead>\n",
       "    <tr style=\"text-align: right;\">\n",
       "      <th></th>\n",
       "      <th>sum_sq</th>\n",
       "      <th>df</th>\n",
       "      <th>F</th>\n",
       "      <th>PR(&gt;F)</th>\n",
       "    </tr>\n",
       "  </thead>\n",
       "  <tbody>\n",
       "    <tr>\n",
       "      <td>C(Nationality)</td>\n",
       "      <td>3.281224e+16</td>\n",
       "      <td>163.0</td>\n",
       "      <td>6.762478</td>\n",
       "      <td>4.840477e-134</td>\n",
       "    </tr>\n",
       "    <tr>\n",
       "      <td>Residual</td>\n",
       "      <td>5.370951e+17</td>\n",
       "      <td>18043.0</td>\n",
       "      <td>NaN</td>\n",
       "      <td>NaN</td>\n",
       "    </tr>\n",
       "  </tbody>\n",
       "</table>\n",
       "</div>"
      ],
      "text/plain": [
       "                      sum_sq       df         F         PR(>F)\n",
       "C(Nationality)  3.281224e+16    163.0  6.762478  4.840477e-134\n",
       "Residual        5.370951e+17  18043.0       NaN            NaN"
      ]
     },
     "execution_count": 8,
     "metadata": {},
     "output_type": "execute_result"
    }
   ],
   "source": [
    "# Your code here:\n",
    "formula = 'ValueNumeric ~ C(Nationality)'\n",
    "model = ols(formula=formula, data=fifa).fit()\n",
    "\n",
    "anova_table = sm.stats.anova_lm(model, typ=2)\n",
    "anova_table"
   ]
  },
  {
   "cell_type": "markdown",
   "metadata": {},
   "source": [
    "What is your conclusion from this ANOVA?"
   ]
  },
  {
   "cell_type": "code",
   "execution_count": null,
   "metadata": {},
   "outputs": [],
   "source": [
    "## There is significant relation between Nationality and the ValueNumeric."
   ]
  },
  {
   "cell_type": "markdown",
   "metadata": {},
   "source": [
    "# Challenge 2 - Linear Regression\n",
    "\n",
    "Our goal with using linear regression is to create a mathematical model that will enable us to predict the outcome of one variable using one or more additional independent variables.\n",
    "\n",
    "We'll start by ensuring there are no missing values. Examine all variables for all missing values. If there are missing values in a row, remove the entire row."
   ]
  },
  {
   "cell_type": "code",
   "execution_count": 11,
   "metadata": {},
   "outputs": [
    {
     "data": {
      "text/plain": [
       "Name              0\n",
       "Age               0\n",
       "Nationality       0\n",
       "Overall           0\n",
       "Potential         0\n",
       "Club              0\n",
       "Value             0\n",
       "Preferred Foot    0\n",
       "Position          0\n",
       "Weak Foot         0\n",
       "Acceleration      0\n",
       "SprintSpeed       0\n",
       "Stamina           0\n",
       "Strength          0\n",
       "LongShots         0\n",
       "Aggression        0\n",
       "Interceptions     0\n",
       "Positioning       0\n",
       "Vision            0\n",
       "Penalties         0\n",
       "ValueNumeric      0\n",
       "dtype: int64"
      ]
     },
     "execution_count": 11,
     "metadata": {},
     "output_type": "execute_result"
    }
   ],
   "source": [
    "# Your code here:\n",
    "fifa = fifa.dropna(axis=0)\n",
    "fifa.isnull().sum()"
   ]
  },
  {
   "cell_type": "markdown",
   "metadata": {},
   "source": [
    "Using the FIFA dataset, in the cell below, create a linear model predicting value using stamina and sprint speed. create the model using `statsmodels`. Print the model summary.\n",
    "\n",
    "Hint: remember to add an intercept to the model using the `add_constant` function."
   ]
  },
  {
   "cell_type": "code",
   "execution_count": 12,
   "metadata": {},
   "outputs": [
    {
     "name": "stderr",
     "output_type": "stream",
     "text": [
      "C:\\Users\\unoma\\AppData\\Local\\Continuum\\anaconda3\\lib\\site-packages\\numpy\\core\\fromnumeric.py:2389: FutureWarning: Method .ptp is deprecated and will be removed in a future version. Use numpy.ptp instead.\n",
      "  return ptp(axis=axis, out=out, **kwargs)\n"
     ]
    }
   ],
   "source": [
    "# Your code here:\n",
    "\n",
    "X = sm.add_constant(fifa[[\n",
    "    'Stamina', \n",
    "    'SprintSpeed', \n",
    "                         ]].apply(lambda x: x.fillna(x.mean())))\n",
    "Y = fifa['ValueNumeric']\n",
    "model = sm.OLS(Y, X).fit()\n",
    "predictions = model.predict(X)"
   ]
  },
  {
   "cell_type": "code",
   "execution_count": 13,
   "metadata": {},
   "outputs": [
    {
     "data": {
      "text/html": [
       "<table class=\"simpletable\">\n",
       "<caption>OLS Regression Results</caption>\n",
       "<tr>\n",
       "  <th>Dep. Variable:</th>      <td>ValueNumeric</td>   <th>  R-squared:         </th>  <td>   0.048</td>  \n",
       "</tr>\n",
       "<tr>\n",
       "  <th>Model:</th>                   <td>OLS</td>       <th>  Adj. R-squared:    </th>  <td>   0.048</td>  \n",
       "</tr>\n",
       "<tr>\n",
       "  <th>Method:</th>             <td>Least Squares</td>  <th>  F-statistic:       </th>  <td>   453.4</td>  \n",
       "</tr>\n",
       "<tr>\n",
       "  <th>Date:</th>             <td>Sun, 22 Mar 2020</td> <th>  Prob (F-statistic):</th>  <td>8.04e-193</td> \n",
       "</tr>\n",
       "<tr>\n",
       "  <th>Time:</th>                 <td>17:17:54</td>     <th>  Log-Likelihood:    </th> <td>-3.0350e+05</td>\n",
       "</tr>\n",
       "<tr>\n",
       "  <th>No. Observations:</th>      <td> 17918</td>      <th>  AIC:               </th>  <td>6.070e+05</td> \n",
       "</tr>\n",
       "<tr>\n",
       "  <th>Df Residuals:</th>          <td> 17915</td>      <th>  BIC:               </th>  <td>6.070e+05</td> \n",
       "</tr>\n",
       "<tr>\n",
       "  <th>Df Model:</th>              <td>     2</td>      <th>                     </th>      <td> </td>     \n",
       "</tr>\n",
       "<tr>\n",
       "  <th>Covariance Type:</th>      <td>nonrobust</td>    <th>                     </th>      <td> </td>     \n",
       "</tr>\n",
       "</table>\n",
       "<table class=\"simpletable\">\n",
       "<tr>\n",
       "       <td></td>          <th>coef</th>     <th>std err</th>      <th>t</th>      <th>P>|t|</th>  <th>[0.025</th>    <th>0.975]</th>  \n",
       "</tr>\n",
       "<tr>\n",
       "  <th>const</th>       <td> -3.07e+06</td> <td> 1.97e+05</td> <td>  -15.600</td> <td> 0.000</td> <td>-3.46e+06</td> <td>-2.68e+06</td>\n",
       "</tr>\n",
       "<tr>\n",
       "  <th>Stamina</th>     <td> 6.037e+04</td> <td> 3290.118</td> <td>   18.349</td> <td> 0.000</td> <td> 5.39e+04</td> <td> 6.68e+04</td>\n",
       "</tr>\n",
       "<tr>\n",
       "  <th>SprintSpeed</th> <td> 2.631e+04</td> <td> 3565.332</td> <td>    7.380</td> <td> 0.000</td> <td> 1.93e+04</td> <td> 3.33e+04</td>\n",
       "</tr>\n",
       "</table>\n",
       "<table class=\"simpletable\">\n",
       "<tr>\n",
       "  <th>Omnibus:</th>       <td>22840.822</td> <th>  Durbin-Watson:     </th>  <td>   0.187</td>  \n",
       "</tr>\n",
       "<tr>\n",
       "  <th>Prob(Omnibus):</th>  <td> 0.000</td>   <th>  Jarque-Bera (JB):  </th> <td>4648189.356</td>\n",
       "</tr>\n",
       "<tr>\n",
       "  <th>Skew:</th>           <td> 7.042</td>   <th>  Prob(JB):          </th>  <td>    0.00</td>  \n",
       "</tr>\n",
       "<tr>\n",
       "  <th>Kurtosis:</th>       <td>80.638</td>   <th>  Cond. No.          </th>  <td>    444.</td>  \n",
       "</tr>\n",
       "</table><br/><br/>Warnings:<br/>[1] Standard Errors assume that the covariance matrix of the errors is correctly specified."
      ],
      "text/plain": [
       "<class 'statsmodels.iolib.summary.Summary'>\n",
       "\"\"\"\n",
       "                            OLS Regression Results                            \n",
       "==============================================================================\n",
       "Dep. Variable:           ValueNumeric   R-squared:                       0.048\n",
       "Model:                            OLS   Adj. R-squared:                  0.048\n",
       "Method:                 Least Squares   F-statistic:                     453.4\n",
       "Date:                Sun, 22 Mar 2020   Prob (F-statistic):          8.04e-193\n",
       "Time:                        17:17:54   Log-Likelihood:            -3.0350e+05\n",
       "No. Observations:               17918   AIC:                         6.070e+05\n",
       "Df Residuals:                   17915   BIC:                         6.070e+05\n",
       "Df Model:                           2                                         \n",
       "Covariance Type:            nonrobust                                         \n",
       "===============================================================================\n",
       "                  coef    std err          t      P>|t|      [0.025      0.975]\n",
       "-------------------------------------------------------------------------------\n",
       "const        -3.07e+06   1.97e+05    -15.600      0.000   -3.46e+06   -2.68e+06\n",
       "Stamina      6.037e+04   3290.118     18.349      0.000    5.39e+04    6.68e+04\n",
       "SprintSpeed  2.631e+04   3565.332      7.380      0.000    1.93e+04    3.33e+04\n",
       "==============================================================================\n",
       "Omnibus:                    22840.822   Durbin-Watson:                   0.187\n",
       "Prob(Omnibus):                  0.000   Jarque-Bera (JB):          4648189.356\n",
       "Skew:                           7.042   Prob(JB):                         0.00\n",
       "Kurtosis:                      80.638   Cond. No.                         444.\n",
       "==============================================================================\n",
       "\n",
       "Warnings:\n",
       "[1] Standard Errors assume that the covariance matrix of the errors is correctly specified.\n",
       "\"\"\""
      ]
     },
     "execution_count": 13,
     "metadata": {},
     "output_type": "execute_result"
    }
   ],
   "source": [
    "model.summary()"
   ]
  },
  {
   "cell_type": "markdown",
   "metadata": {},
   "source": [
    "Report your findings from the model summary. In particular, report about the model as a whole using the F-test and how much variation is predicted by the model using the r squared."
   ]
  },
  {
   "cell_type": "code",
   "execution_count": null,
   "metadata": {},
   "outputs": [],
   "source": [
    "# Your conclusions here:\n",
    "\n",
    "# De acuerdo con la información de los estadísticos R-cuadraro y F, \n",
    "# se observa de que no hay relación entre las variables consideradas dado que los valores de ambos son muy bajos.\n"
   ]
  },
  {
   "cell_type": "markdown",
   "metadata": {},
   "source": [
    "Next, create a second regression model predicting value using potential. Create the model using `statsmodels` and print the model summary. Remember to add a constant term."
   ]
  },
  {
   "cell_type": "code",
   "execution_count": 14,
   "metadata": {},
   "outputs": [
    {
     "data": {
      "text/html": [
       "<table class=\"simpletable\">\n",
       "<caption>OLS Regression Results</caption>\n",
       "<tr>\n",
       "  <th>Dep. Variable:</th>      <td>ValueNumeric</td>   <th>  R-squared:         </th>  <td>   0.336</td>  \n",
       "</tr>\n",
       "<tr>\n",
       "  <th>Model:</th>                   <td>OLS</td>       <th>  Adj. R-squared:    </th>  <td>   0.336</td>  \n",
       "</tr>\n",
       "<tr>\n",
       "  <th>Method:</th>             <td>Least Squares</td>  <th>  F-statistic:       </th>  <td>   9058.</td>  \n",
       "</tr>\n",
       "<tr>\n",
       "  <th>Date:</th>             <td>Sun, 22 Mar 2020</td> <th>  Prob (F-statistic):</th>   <td>  0.00</td>   \n",
       "</tr>\n",
       "<tr>\n",
       "  <th>Time:</th>                 <td>17:18:00</td>     <th>  Log-Likelihood:    </th> <td>-3.0027e+05</td>\n",
       "</tr>\n",
       "<tr>\n",
       "  <th>No. Observations:</th>      <td> 17918</td>      <th>  AIC:               </th>  <td>6.006e+05</td> \n",
       "</tr>\n",
       "<tr>\n",
       "  <th>Df Residuals:</th>          <td> 17916</td>      <th>  BIC:               </th>  <td>6.006e+05</td> \n",
       "</tr>\n",
       "<tr>\n",
       "  <th>Df Model:</th>              <td>     1</td>      <th>                     </th>      <td> </td>     \n",
       "</tr>\n",
       "<tr>\n",
       "  <th>Covariance Type:</th>      <td>nonrobust</td>    <th>                     </th>      <td> </td>     \n",
       "</tr>\n",
       "</table>\n",
       "<table class=\"simpletable\">\n",
       "<tr>\n",
       "      <td></td>         <th>coef</th>     <th>std err</th>      <th>t</th>      <th>P>|t|</th>  <th>[0.025</th>    <th>0.975]</th>  \n",
       "</tr>\n",
       "<tr>\n",
       "  <th>const</th>     <td>-3.544e+07</td> <td>    4e+05</td> <td>  -88.693</td> <td> 0.000</td> <td>-3.62e+07</td> <td>-3.47e+07</td>\n",
       "</tr>\n",
       "<tr>\n",
       "  <th>Potential</th> <td> 5.312e+05</td> <td> 5581.083</td> <td>   95.172</td> <td> 0.000</td> <td>  5.2e+05</td> <td> 5.42e+05</td>\n",
       "</tr>\n",
       "</table>\n",
       "<table class=\"simpletable\">\n",
       "<tr>\n",
       "  <th>Omnibus:</th>       <td>23030.426</td> <th>  Durbin-Watson:     </th>  <td>   0.550</td>  \n",
       "</tr>\n",
       "<tr>\n",
       "  <th>Prob(Omnibus):</th>  <td> 0.000</td>   <th>  Jarque-Bera (JB):  </th> <td>6340772.995</td>\n",
       "</tr>\n",
       "<tr>\n",
       "  <th>Skew:</th>           <td> 7.013</td>   <th>  Prob(JB):          </th>  <td>    0.00</td>  \n",
       "</tr>\n",
       "<tr>\n",
       "  <th>Kurtosis:</th>       <td>94.084</td>   <th>  Cond. No.          </th>  <td>    834.</td>  \n",
       "</tr>\n",
       "</table><br/><br/>Warnings:<br/>[1] Standard Errors assume that the covariance matrix of the errors is correctly specified."
      ],
      "text/plain": [
       "<class 'statsmodels.iolib.summary.Summary'>\n",
       "\"\"\"\n",
       "                            OLS Regression Results                            \n",
       "==============================================================================\n",
       "Dep. Variable:           ValueNumeric   R-squared:                       0.336\n",
       "Model:                            OLS   Adj. R-squared:                  0.336\n",
       "Method:                 Least Squares   F-statistic:                     9058.\n",
       "Date:                Sun, 22 Mar 2020   Prob (F-statistic):               0.00\n",
       "Time:                        17:18:00   Log-Likelihood:            -3.0027e+05\n",
       "No. Observations:               17918   AIC:                         6.006e+05\n",
       "Df Residuals:                   17916   BIC:                         6.006e+05\n",
       "Df Model:                           1                                         \n",
       "Covariance Type:            nonrobust                                         \n",
       "==============================================================================\n",
       "                 coef    std err          t      P>|t|      [0.025      0.975]\n",
       "------------------------------------------------------------------------------\n",
       "const      -3.544e+07      4e+05    -88.693      0.000   -3.62e+07   -3.47e+07\n",
       "Potential   5.312e+05   5581.083     95.172      0.000     5.2e+05    5.42e+05\n",
       "==============================================================================\n",
       "Omnibus:                    23030.426   Durbin-Watson:                   0.550\n",
       "Prob(Omnibus):                  0.000   Jarque-Bera (JB):          6340772.995\n",
       "Skew:                           7.013   Prob(JB):                         0.00\n",
       "Kurtosis:                      94.084   Cond. No.                         834.\n",
       "==============================================================================\n",
       "\n",
       "Warnings:\n",
       "[1] Standard Errors assume that the covariance matrix of the errors is correctly specified.\n",
       "\"\"\""
      ]
     },
     "execution_count": 14,
     "metadata": {},
     "output_type": "execute_result"
    }
   ],
   "source": [
    "# Your code here:\n",
    "\n",
    "Y = fifa['ValueNumeric']\n",
    "X = sm.add_constant(fifa['Potential'])\n",
    "\n",
    "model = sm.OLS(Y, X).fit() # ordinary least squares\n",
    "predictions = model.predict(X)\n",
    "\n",
    "model.summary()"
   ]
  },
  {
   "cell_type": "markdown",
   "metadata": {},
   "source": [
    "Report your findings from the model summary. In particular, report about the model as a whole using the F-test and how much variation is predicted by the model using the r squared."
   ]
  },
  {
   "cell_type": "code",
   "execution_count": null,
   "metadata": {},
   "outputs": [],
   "source": [
    "# De acuerdo con la información de los estadísticos R-cuadraro y F, \n",
    "# se observa de que no hay relación entre las variables consideradas dado que los valores de ambos son muy bajos."
   ]
  },
  {
   "cell_type": "code",
   "execution_count": 15,
   "metadata": {},
   "outputs": [],
   "source": [
    "# Your conclusions here:\n",
    "from scipy.stats import linregress\n",
    "import matplotlib.pyplot as plt\n",
    "\n",
    "reg_result = linregress(fifa[\"Potential\"], fifa[\"ValueNumeric\"])\n",
    "x = np.linspace(fifa['Potential'].min(), fifa['Potential'].max(), 50)\n",
    "y = reg_result[1] + reg_result[0] * x"
   ]
  },
  {
   "cell_type": "markdown",
   "metadata": {},
   "source": [
    "Plot a scatter plot of value vs. potential. Do you see a linear relationship?"
   ]
  },
  {
   "cell_type": "code",
   "execution_count": 16,
   "metadata": {},
   "outputs": [
    {
     "data": {
      "image/png": "[encoded data removed]",
      "text/plain": [
       "<Figure size 864x432 with 1 Axes>"
      ]
     },
     "metadata": {
      "needs_background": "light"
     },
     "output_type": "display_data"
    }
   ],
   "source": [
    "# Your code here:\n",
    "plt.figure(figsize=(12, 6))\n",
    "plt.plot(x, y, c='b', \n",
    "         label=f'ValueNumeric = Potential * {reg_result[0]:.2f} + {reg_result[1]:.2f}')\n",
    "plt.scatter(fifa['Potential'], \n",
    "            fifa['ValueNumeric'], \n",
    "            marker='o',\n",
    "            color='green',\n",
    "            label='ValueNumeric')\n",
    "plt.title('linear regression, value vs potential')\n",
    "plt.xlabel('Potential')\n",
    "plt.ylabel('ValueNumeric')\n",
    "plt.legend()\n",
    "plt.show()\n"
   ]
  },
  {
   "cell_type": "code",
   "execution_count": null,
   "metadata": {},
   "outputs": [],
   "source": []
  }
 ],
 "metadata": {
  "kernelspec": {
   "display_name": "Python 3",
   "language": "python",
   "name": "python3"
  },
  "language_info": {
   "codemirror_mode": {
    "name": "ipython",
    "version": 3
   },
   "file_extension": ".py",
   "mimetype": "text/x-python",
   "name": "python",
   "nbconvert_exporter": "python",
   "pygments_lexer": "ipython3",
   "version": "3.7.4"
  },
  "toc": {
   "base_numbering": 1,
   "nav_menu": {},
   "number_sections": true,
   "sideBar": true,
   "skip_h1_title": false,
   "title_cell": "Table of Contents",
   "title_sidebar": "Contents",
   "toc_cell": false,
   "toc_position": {},
   "toc_section_display": true,
   "toc_window_display": false
  },
  "varInspector": {
   "cols": {
    "lenName": 16,
    "lenType": 16,
    "lenVar": 40
   },
   "kernels_config": {
    "python": {
     "delete_cmd_postfix": "",
     "delete_cmd_prefix": "del ",
     "library": "var_list.py",
     "varRefreshCmd": "print(var_dic_list())"
    },
    "r": {
     "delete_cmd_postfix": ") ",
     "delete_cmd_prefix": "rm(",
     "library": "var_list.r",
     "varRefreshCmd": "cat(var_dic_list()) "
    }
   },
   "types_to_exclude": [
    "module",
    "function",
    "builtin_function_or_method",
    "instance",
    "_Feature"
   ],
   "window_display": false
  }
 },
 "nbformat": 4,
 "nbformat_minor": 2
}
